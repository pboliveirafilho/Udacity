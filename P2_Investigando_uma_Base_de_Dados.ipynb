{
 "cells": [
  {
   "cell_type": "markdown",
   "metadata": {},
   "source": [
    "# P2: Investifando uma Base de Dados\n",
    "\n",
    "## Pedro Barbosa de Oliveira Filho\n",
    "\n",
    "### Base de Dados:  *Tripulantes a bordo do Titanic (https://www.kaggle.com/c/titanic/data)*"
   ]
  },
  {
   "cell_type": "markdown",
   "metadata": {},
   "source": [
    "### INTRODUÇÃO"
   ]
  },
  {
   "cell_type": "markdown",
   "metadata": {},
   "source": [
    "O naufrágio do RMS Titanic é um dos mais desastrosos e famosos da história. Em 15 de abril de 1912, em sua viagem inaugural, o Titanic afundou após colidir com um iceberg, matando 1502 dentre 2224 pessoas (passageiros e tripulação). Esta tragédia chocou a comunidade internacional e resultou em avanços na segurança para navios.Uma das principais razões para o grande número de vítimas fatais neste naufrágio foi o número insuficiente de barcos salva-vidas para passageiros e tripulação.\n",
    "\n",
    "O presente trabalho apresenta uma análise dos dados demográficos e informações referentes a 891 dos 2224 passageiros e tripulantes a bordo do Titanic. O objetivo deste trabalho não é apresentar conclusões definitivas sobre a sobrevivência de passageiros ou tripulantes do Titanic, mas sim investigar o conjunto de dados com base em um brainstorming de perguntas a serem respondidas no decorrer das análises."
   ]
  },
  {
   "cell_type": "markdown",
   "metadata": {},
   "source": [
    "### BASE DE DADOS ORIGINAL"
   ]
  },
  {
   "cell_type": "code",
   "execution_count": 1,
   "metadata": {
    "collapsed": false
   },
   "outputs": [
    {
     "data": {
      "text/html": [
       "<div>\n",
       "<table border=\"1\" class=\"dataframe\">\n",
       "  <thead>\n",
       "    <tr style=\"text-align: right;\">\n",
       "      <th></th>\n",
       "      <th>PassengerId</th>\n",
       "      <th>Survived</th>\n",
       "      <th>Pclass</th>\n",
       "      <th>Name</th>\n",
       "      <th>Sex</th>\n",
       "      <th>Age</th>\n",
       "      <th>SibSp</th>\n",
       "      <th>Parch</th>\n",
       "      <th>Ticket</th>\n",
       "      <th>Fare</th>\n",
       "      <th>Cabin</th>\n",
       "      <th>Embarked</th>\n",
       "    </tr>\n",
       "  </thead>\n",
       "  <tbody>\n",
       "    <tr>\n",
       "      <th>0</th>\n",
       "      <td>1</td>\n",
       "      <td>0</td>\n",
       "      <td>3</td>\n",
       "      <td>Braund, Mr. Owen Harris</td>\n",
       "      <td>male</td>\n",
       "      <td>22.0</td>\n",
       "      <td>1</td>\n",
       "      <td>0</td>\n",
       "      <td>A/5 21171</td>\n",
       "      <td>7.2500</td>\n",
       "      <td>NaN</td>\n",
       "      <td>S</td>\n",
       "    </tr>\n",
       "    <tr>\n",
       "      <th>1</th>\n",
       "      <td>2</td>\n",
       "      <td>1</td>\n",
       "      <td>1</td>\n",
       "      <td>Cumings, Mrs. John Bradley (Florence Briggs Th...</td>\n",
       "      <td>female</td>\n",
       "      <td>38.0</td>\n",
       "      <td>1</td>\n",
       "      <td>0</td>\n",
       "      <td>PC 17599</td>\n",
       "      <td>71.2833</td>\n",
       "      <td>C85</td>\n",
       "      <td>C</td>\n",
       "    </tr>\n",
       "    <tr>\n",
       "      <th>2</th>\n",
       "      <td>3</td>\n",
       "      <td>1</td>\n",
       "      <td>3</td>\n",
       "      <td>Heikkinen, Miss. Laina</td>\n",
       "      <td>female</td>\n",
       "      <td>26.0</td>\n",
       "      <td>0</td>\n",
       "      <td>0</td>\n",
       "      <td>STON/O2. 3101282</td>\n",
       "      <td>7.9250</td>\n",
       "      <td>NaN</td>\n",
       "      <td>S</td>\n",
       "    </tr>\n",
       "    <tr>\n",
       "      <th>3</th>\n",
       "      <td>4</td>\n",
       "      <td>1</td>\n",
       "      <td>1</td>\n",
       "      <td>Futrelle, Mrs. Jacques Heath (Lily May Peel)</td>\n",
       "      <td>female</td>\n",
       "      <td>35.0</td>\n",
       "      <td>1</td>\n",
       "      <td>0</td>\n",
       "      <td>113803</td>\n",
       "      <td>53.1000</td>\n",
       "      <td>C123</td>\n",
       "      <td>S</td>\n",
       "    </tr>\n",
       "    <tr>\n",
       "      <th>4</th>\n",
       "      <td>5</td>\n",
       "      <td>0</td>\n",
       "      <td>3</td>\n",
       "      <td>Allen, Mr. William Henry</td>\n",
       "      <td>male</td>\n",
       "      <td>35.0</td>\n",
       "      <td>0</td>\n",
       "      <td>0</td>\n",
       "      <td>373450</td>\n",
       "      <td>8.0500</td>\n",
       "      <td>NaN</td>\n",
       "      <td>S</td>\n",
       "    </tr>\n",
       "    <tr>\n",
       "      <th>5</th>\n",
       "      <td>6</td>\n",
       "      <td>0</td>\n",
       "      <td>3</td>\n",
       "      <td>Moran, Mr. James</td>\n",
       "      <td>male</td>\n",
       "      <td>NaN</td>\n",
       "      <td>0</td>\n",
       "      <td>0</td>\n",
       "      <td>330877</td>\n",
       "      <td>8.4583</td>\n",
       "      <td>NaN</td>\n",
       "      <td>Q</td>\n",
       "    </tr>\n",
       "  </tbody>\n",
       "</table>\n",
       "</div>"
      ],
      "text/plain": [
       "   PassengerId  Survived  Pclass  \\\n",
       "0            1         0       3   \n",
       "1            2         1       1   \n",
       "2            3         1       3   \n",
       "3            4         1       1   \n",
       "4            5         0       3   \n",
       "5            6         0       3   \n",
       "\n",
       "                                                Name     Sex   Age  SibSp  \\\n",
       "0                            Braund, Mr. Owen Harris    male  22.0      1   \n",
       "1  Cumings, Mrs. John Bradley (Florence Briggs Th...  female  38.0      1   \n",
       "2                             Heikkinen, Miss. Laina  female  26.0      0   \n",
       "3       Futrelle, Mrs. Jacques Heath (Lily May Peel)  female  35.0      1   \n",
       "4                           Allen, Mr. William Henry    male  35.0      0   \n",
       "5                                   Moran, Mr. James    male   NaN      0   \n",
       "\n",
       "   Parch            Ticket     Fare Cabin Embarked  \n",
       "0      0         A/5 21171   7.2500   NaN        S  \n",
       "1      0          PC 17599  71.2833   C85        C  \n",
       "2      0  STON/O2. 3101282   7.9250   NaN        S  \n",
       "3      0            113803  53.1000  C123        S  \n",
       "4      0            373450   8.0500   NaN        S  \n",
       "5      0            330877   8.4583   NaN        Q  "
      ]
     },
     "execution_count": 1,
     "metadata": {},
     "output_type": "execute_result"
    }
   ],
   "source": [
    "# Importando a biblioteca Pandas\n",
    "import pandas as pd\n",
    "\n",
    "# Carregando dados dos passageiros e tripulantes do Titanic\n",
    "titanic_data = pd.read_csv(\"titanic_data.csv\")\n",
    "\n",
    "# Cabeçalho do banco de dados\n",
    "titanic_data.head(6)"
   ]
  },
  {
   "cell_type": "markdown",
   "metadata": {},
   "source": [
    "### DICIONÁRIO DE DADOS"
   ]
  },
  {
   "cell_type": "code",
   "execution_count": 2,
   "metadata": {
    "collapsed": false
   },
   "outputs": [
    {
     "data": {
      "text/html": [
       "<div>\n",
       "<table border=\"1\" class=\"dataframe\">\n",
       "  <thead>\n",
       "    <tr style=\"text-align: right;\">\n",
       "      <th></th>\n",
       "      <th>Definição</th>\n",
       "      <th>Informação chave</th>\n",
       "    </tr>\n",
       "  </thead>\n",
       "  <tbody>\n",
       "    <tr>\n",
       "      <th>survival</th>\n",
       "      <td>Sobrevivência</td>\n",
       "      <td>0 = Não, 1 = Sim</td>\n",
       "    </tr>\n",
       "    <tr>\n",
       "      <th>pclass</th>\n",
       "      <td>Classe do Bilhete</td>\n",
       "      <td>1 = 1ª, 2 = 2ª, 3 = 3ª</td>\n",
       "    </tr>\n",
       "    <tr>\n",
       "      <th>sex</th>\n",
       "      <td>Gênero</td>\n",
       "      <td></td>\n",
       "    </tr>\n",
       "    <tr>\n",
       "      <th>Age</th>\n",
       "      <td>Idade em anos</td>\n",
       "      <td></td>\n",
       "    </tr>\n",
       "    <tr>\n",
       "      <th>sibsp</th>\n",
       "      <td>nº Irmãos/Cônjuges a bordo do Titanic</td>\n",
       "      <td></td>\n",
       "    </tr>\n",
       "    <tr>\n",
       "      <th>parch</th>\n",
       "      <td>nº Pais/Filhos a bordo do Titanic</td>\n",
       "      <td></td>\n",
       "    </tr>\n",
       "    <tr>\n",
       "      <th>ticket</th>\n",
       "      <td>nº do Bilhete</td>\n",
       "      <td></td>\n",
       "    </tr>\n",
       "    <tr>\n",
       "      <th>fare</th>\n",
       "      <td>Tarifa de passageiros</td>\n",
       "      <td></td>\n",
       "    </tr>\n",
       "    <tr>\n",
       "      <th>cabin</th>\n",
       "      <td>nº da Cabine</td>\n",
       "      <td></td>\n",
       "    </tr>\n",
       "    <tr>\n",
       "      <th>embarked</th>\n",
       "      <td>Porto de embarque</td>\n",
       "      <td>C = Cherbourg, Q = Queenstown, S = Southampton</td>\n",
       "    </tr>\n",
       "  </tbody>\n",
       "</table>\n",
       "</div>"
      ],
      "text/plain": [
       "                                      Definição  \\\n",
       "survival                          Sobrevivência   \n",
       "pclass                        Classe do Bilhete   \n",
       "sex                                      Gênero   \n",
       "Age                               Idade em anos   \n",
       "sibsp     nº Irmãos/Cônjuges a bordo do Titanic   \n",
       "parch         nº Pais/Filhos a bordo do Titanic   \n",
       "ticket                            nº do Bilhete   \n",
       "fare                      Tarifa de passageiros   \n",
       "cabin                              nº da Cabine   \n",
       "embarked                      Porto de embarque   \n",
       "\n",
       "                                        Informação chave  \n",
       "survival                                0 = Não, 1 = Sim  \n",
       "pclass                            1 = 1ª, 2 = 2ª, 3 = 3ª  \n",
       "sex                                                       \n",
       "Age                                                       \n",
       "sibsp                                                     \n",
       "parch                                                     \n",
       "ticket                                                    \n",
       "fare                                                      \n",
       "cabin                                                     \n",
       "embarked  C = Cherbourg, Q = Queenstown, S = Southampton  "
      ]
     },
     "execution_count": 2,
     "metadata": {},
     "output_type": "execute_result"
    }
   ],
   "source": [
    "# Importando a biblioteca Pandas\n",
    "import pandas as pd\n",
    "\n",
    "d = {\"Definição\": pd.Series([\"Sobrevivência\",\"Classe do Bilhete\",\"Gênero\",\n",
    "                              \"Idade em anos\",\"nº Irmãos/Cônjuges a bordo do Titanic\",\n",
    "                              \"nº Pais/Filhos a bordo do Titanic\",\"nº do Bilhete\",\n",
    "                              \"Tarifa de passageiros\",\"nº da Cabine\",\"Porto de embarque\"],\n",
    "                            index=[\"survival\",\"pclass\",\"sex\",\"Age\",\"sibsp\",\"parch\",\"ticket\",\"fare\",\"cabin\",\"embarked\"]),\n",
    "     \"Informação chave\": pd.Series([\"0 = Não, 1 = Sim\",\"1 = 1ª, 2 = 2ª, 3 = 3ª\",\n",
    "                                    \"\",\"\",\"\",\"\",\"\",\"\",\"\",\n",
    "                                    \"C = Cherbourg, Q = Queenstown, S = Southampton\"],\n",
    "                                   index=[\"survival\",\"pclass\",\"sex\",\"Age\",\"sibsp\",\"parch\",\"ticket\",\"fare\",\"cabin\",\"embarked\"])\n",
    "}\n",
    "\n",
    "df = pd.DataFrame(d)\n",
    "df"
   ]
  },
  {
   "cell_type": "markdown",
   "metadata": {},
   "source": [
    "### BRAINSTORM "
   ]
  },
  {
   "cell_type": "markdown",
   "metadata": {},
   "source": [
    "#### *Quais os fatores que, aparentemente, mais influenciaram a sobrevivência das pessoas a bordo do Titanic?*\n",
    "\n",
    "1. Passageiros de classe sócio-econômica (*Pclass*) mais elevada apresentaram maior proporção de sobreviventes?\n",
    "2. Houve diferença entre as proporções de sobreviventes para homens e mulheres?\n",
    "3. Qual faixa de idade apresentou maior proporção de sobreviventes?\n",
    "4. Passageiros com poucos parentes (irmãos, cônjugues, pais e filhos) apresentaram maior proporção de sobreviventes?\n",
    "5. Passageiros que embarcaram em diferentes portos apresentaram diferentes proporções de sobreviventes?"
   ]
  },
  {
   "cell_type": "markdown",
   "metadata": {},
   "source": [
    "### DATA WRANGLING"
   ]
  },
  {
   "cell_type": "markdown",
   "metadata": {},
   "source": [
    "Primeiramente carregamos as bibliotecas necessária para análise e visualização dos dados."
   ]
  },
  {
   "cell_type": "code",
   "execution_count": 3,
   "metadata": {
    "collapsed": true
   },
   "outputs": [],
   "source": [
    "# Bibliotecas para análise de dados\n",
    "import pandas as pd\n",
    "import numpy as np\n",
    "\n",
    "# Bibliotecas para visualização de dados\n",
    "import seaborn as sns\n",
    "import matplotlib.pyplot as plt\n",
    "%matplotlib inline"
   ]
  },
  {
   "cell_type": "markdown",
   "metadata": {},
   "source": [
    "Observando as seis primeiras linhas da base de dados nota-se que as variáveis *Age* e *Cabin* possuim valores faltantes (NaN)."
   ]
  },
  {
   "cell_type": "markdown",
   "metadata": {},
   "source": [
    "Para as análises seguintes, é interessante conhecer quantos valores faltantes cada variável da base de dados possui. O código abaixo apresneta esta contágem."
   ]
  },
  {
   "cell_type": "code",
   "execution_count": 4,
   "metadata": {
    "collapsed": false
   },
   "outputs": [
    {
     "data": {
      "text/plain": [
       "PassengerId      0\n",
       "Survived         0\n",
       "Pclass           0\n",
       "Name             0\n",
       "Sex              0\n",
       "Age            177\n",
       "SibSp            0\n",
       "Parch            0\n",
       "Ticket           0\n",
       "Fare             0\n",
       "Cabin          687\n",
       "Embarked         2\n",
       "dtype: int64"
      ]
     },
     "execution_count": 4,
     "metadata": {},
     "output_type": "execute_result"
    }
   ],
   "source": [
    "# Contágem do número de NaN por variável\n",
    "titanic_data.isnull().sum()"
   ]
  },
  {
   "cell_type": "markdown",
   "metadata": {},
   "source": [
    "Nota-se que além das variáveis *Age* e *Cabin*, a variável *Embarked* também possui valores faltantes. Para as análises seguintes, substitui-se os valores faltantes da variável *Age* por suas mediana."
   ]
  },
  {
   "cell_type": "code",
   "execution_count": 5,
   "metadata": {
    "collapsed": false
   },
   "outputs": [
    {
     "data": {
      "text/plain": [
       "28.0"
      ]
     },
     "execution_count": 5,
     "metadata": {},
     "output_type": "execute_result"
    }
   ],
   "source": [
    "# Valor mediano da variável Age\n",
    "titanic_data[\"Age\"].median()"
   ]
  },
  {
   "cell_type": "code",
   "execution_count": 6,
   "metadata": {
    "collapsed": true
   },
   "outputs": [],
   "source": [
    "# Substituição de NaN por mediana na variável Age\n",
    "titanic_data[\"Age\"].fillna(titanic_data[\"Age\"].median(), inplace=True)"
   ]
  },
  {
   "cell_type": "markdown",
   "metadata": {},
   "source": [
    "Os dois valores faltantes da variável *Embarked* são substituidos pelo porto de embarque mais comum entre os passageiros e tripulantes. "
   ]
  },
  {
   "cell_type": "code",
   "execution_count": 7,
   "metadata": {
    "collapsed": false
   },
   "outputs": [
    {
     "data": {
      "text/plain": [
       "S    644\n",
       "C    168\n",
       "Q     77\n",
       "Name: Embarked, dtype: int64"
      ]
     },
     "execution_count": 7,
     "metadata": {},
     "output_type": "execute_result"
    }
   ],
   "source": [
    "# Nº de passageiros e tripulantes por porto de embarque\n",
    "titanic_data[\"Embarked\"].value_counts()"
   ]
  },
  {
   "cell_type": "code",
   "execution_count": 8,
   "metadata": {
    "collapsed": false
   },
   "outputs": [
    {
     "data": {
      "text/plain": [
       "0.72"
      ]
     },
     "execution_count": 8,
     "metadata": {},
     "output_type": "execute_result"
    }
   ],
   "source": [
    "# Fração de passageiros embarcados no porto de Southampton (S)\n",
    "round(float(titanic_data[\"Embarked\"].value_counts()[0])/float(titanic_data[\"Embarked\"].count()),2)"
   ]
  },
  {
   "cell_type": "markdown",
   "metadata": {},
   "source": [
    "Logo, substitui-se os valores faltantes da variável *Embarked* pelo porto de Southampton (S)"
   ]
  },
  {
   "cell_type": "code",
   "execution_count": 9,
   "metadata": {
    "collapsed": true
   },
   "outputs": [],
   "source": [
    "# Substituição de NaN por porto de Southampton (S) na variável Embarked\n",
    "titanic_data[\"Embarked\"].fillna(\"S\", inplace=True)"
   ]
  },
  {
   "cell_type": "markdown",
   "metadata": {},
   "source": [
    "O código abaixo mostra que os valores de faltantes das variáveis *Age* e *Embarked* foram substituidos. Os valores faltantes da variável *Cabin* não serão alterados, pois a mesma não será abordada nesta análise."
   ]
  },
  {
   "cell_type": "code",
   "execution_count": 10,
   "metadata": {
    "collapsed": false
   },
   "outputs": [
    {
     "data": {
      "text/plain": [
       "PassengerId    0\n",
       "Survived       0\n",
       "Pclass         0\n",
       "Name           0\n",
       "Sex            0\n",
       "Age            0\n",
       "SibSp          0\n",
       "Parch          0\n",
       "Ticket         0\n",
       "Fare           0\n",
       "Embarked       0\n",
       "dtype: int64"
      ]
     },
     "execution_count": 10,
     "metadata": {},
     "output_type": "execute_result"
    }
   ],
   "source": [
    "# Remoção da variável Cabin do conjunto de dados\n",
    "titanic_data = titanic_data.drop(\"Cabin\", 1)\n",
    "# Contágem do número de NaN por variável\n",
    "titanic_data.isnull().sum()"
   ]
  },
  {
   "cell_type": "markdown",
   "metadata": {},
   "source": [
    "Para as análises seguintes, é interessante atribuir categorias (criança, adolescente, adulto e idoso) para a variável *Age*. A função abaixo (*category_Age*) é utilizada para categorizar uma idade."
   ]
  },
  {
   "cell_type": "code",
   "execution_count": 11,
   "metadata": {
    "collapsed": true
   },
   "outputs": [],
   "source": [
    "def category_Age(age):\n",
    "    if age >= 60:\n",
    "        return \"Elderly\"\n",
    "    elif age >= 19:\n",
    "        return \"Adult\"\n",
    "    elif age >= 12:\n",
    "        return \"Teenager\"\n",
    "    else:\n",
    "        return \"Child\""
   ]
  },
  {
   "cell_type": "markdown",
   "metadata": {},
   "source": [
    "A função *category_Ages* será utilizada para categorizar todos as valores da variável *Age*."
   ]
  },
  {
   "cell_type": "code",
   "execution_count": 12,
   "metadata": {
    "collapsed": true
   },
   "outputs": [],
   "source": [
    "def category_Ages(ages):\n",
    "    ages = pd.DataFrame(ages)\n",
    "    return ages.applymap(category_Age)"
   ]
  },
  {
   "cell_type": "markdown",
   "metadata": {},
   "source": [
    "O código abaixo adiciona a variável *AgeCategory* à base de dados."
   ]
  },
  {
   "cell_type": "code",
   "execution_count": 13,
   "metadata": {
    "collapsed": false
   },
   "outputs": [],
   "source": [
    "titanic_data[\"AgeCategory\"] = category_Ages(titanic_data[\"Age\"])"
   ]
  },
  {
   "cell_type": "markdown",
   "metadata": {},
   "source": [
    "Como ambas as variáveis *SibSp* e *Parch* referem-se a parentes dos passageiros ou tripulantes a bordo do Titanic, é interessante agrupar estas duas variáveis. O código abaixo combina as variáveis *SibSp* e *Parch* em uma nova variável *Family* e adiciona a mesma à base de dodos."
   ]
  },
  {
   "cell_type": "code",
   "execution_count": 14,
   "metadata": {
    "collapsed": false
   },
   "outputs": [],
   "source": [
    "titanic_data[\"Family\"] = titanic_data[\"SibSp\"] + titanic_data[\"Parch\"]"
   ]
  },
  {
   "cell_type": "markdown",
   "metadata": {},
   "source": [
    "A base de dados encontra-se pronta para a realização das próximas análises."
   ]
  },
  {
   "cell_type": "code",
   "execution_count": 15,
   "metadata": {
    "collapsed": false
   },
   "outputs": [
    {
     "data": {
      "text/html": [
       "<div>\n",
       "<table border=\"1\" class=\"dataframe\">\n",
       "  <thead>\n",
       "    <tr style=\"text-align: right;\">\n",
       "      <th></th>\n",
       "      <th>PassengerId</th>\n",
       "      <th>Survived</th>\n",
       "      <th>Pclass</th>\n",
       "      <th>Name</th>\n",
       "      <th>Sex</th>\n",
       "      <th>Age</th>\n",
       "      <th>SibSp</th>\n",
       "      <th>Parch</th>\n",
       "      <th>Ticket</th>\n",
       "      <th>Fare</th>\n",
       "      <th>Embarked</th>\n",
       "      <th>AgeCategory</th>\n",
       "      <th>Family</th>\n",
       "    </tr>\n",
       "  </thead>\n",
       "  <tbody>\n",
       "    <tr>\n",
       "      <th>0</th>\n",
       "      <td>1</td>\n",
       "      <td>0</td>\n",
       "      <td>3</td>\n",
       "      <td>Braund, Mr. Owen Harris</td>\n",
       "      <td>male</td>\n",
       "      <td>22.0</td>\n",
       "      <td>1</td>\n",
       "      <td>0</td>\n",
       "      <td>A/5 21171</td>\n",
       "      <td>7.2500</td>\n",
       "      <td>S</td>\n",
       "      <td>Adult</td>\n",
       "      <td>1</td>\n",
       "    </tr>\n",
       "    <tr>\n",
       "      <th>1</th>\n",
       "      <td>2</td>\n",
       "      <td>1</td>\n",
       "      <td>1</td>\n",
       "      <td>Cumings, Mrs. John Bradley (Florence Briggs Th...</td>\n",
       "      <td>female</td>\n",
       "      <td>38.0</td>\n",
       "      <td>1</td>\n",
       "      <td>0</td>\n",
       "      <td>PC 17599</td>\n",
       "      <td>71.2833</td>\n",
       "      <td>C</td>\n",
       "      <td>Adult</td>\n",
       "      <td>1</td>\n",
       "    </tr>\n",
       "    <tr>\n",
       "      <th>2</th>\n",
       "      <td>3</td>\n",
       "      <td>1</td>\n",
       "      <td>3</td>\n",
       "      <td>Heikkinen, Miss. Laina</td>\n",
       "      <td>female</td>\n",
       "      <td>26.0</td>\n",
       "      <td>0</td>\n",
       "      <td>0</td>\n",
       "      <td>STON/O2. 3101282</td>\n",
       "      <td>7.9250</td>\n",
       "      <td>S</td>\n",
       "      <td>Adult</td>\n",
       "      <td>0</td>\n",
       "    </tr>\n",
       "    <tr>\n",
       "      <th>3</th>\n",
       "      <td>4</td>\n",
       "      <td>1</td>\n",
       "      <td>1</td>\n",
       "      <td>Futrelle, Mrs. Jacques Heath (Lily May Peel)</td>\n",
       "      <td>female</td>\n",
       "      <td>35.0</td>\n",
       "      <td>1</td>\n",
       "      <td>0</td>\n",
       "      <td>113803</td>\n",
       "      <td>53.1000</td>\n",
       "      <td>S</td>\n",
       "      <td>Adult</td>\n",
       "      <td>1</td>\n",
       "    </tr>\n",
       "    <tr>\n",
       "      <th>4</th>\n",
       "      <td>5</td>\n",
       "      <td>0</td>\n",
       "      <td>3</td>\n",
       "      <td>Allen, Mr. William Henry</td>\n",
       "      <td>male</td>\n",
       "      <td>35.0</td>\n",
       "      <td>0</td>\n",
       "      <td>0</td>\n",
       "      <td>373450</td>\n",
       "      <td>8.0500</td>\n",
       "      <td>S</td>\n",
       "      <td>Adult</td>\n",
       "      <td>0</td>\n",
       "    </tr>\n",
       "    <tr>\n",
       "      <th>5</th>\n",
       "      <td>6</td>\n",
       "      <td>0</td>\n",
       "      <td>3</td>\n",
       "      <td>Moran, Mr. James</td>\n",
       "      <td>male</td>\n",
       "      <td>28.0</td>\n",
       "      <td>0</td>\n",
       "      <td>0</td>\n",
       "      <td>330877</td>\n",
       "      <td>8.4583</td>\n",
       "      <td>Q</td>\n",
       "      <td>Adult</td>\n",
       "      <td>0</td>\n",
       "    </tr>\n",
       "  </tbody>\n",
       "</table>\n",
       "</div>"
      ],
      "text/plain": [
       "   PassengerId  Survived  Pclass  \\\n",
       "0            1         0       3   \n",
       "1            2         1       1   \n",
       "2            3         1       3   \n",
       "3            4         1       1   \n",
       "4            5         0       3   \n",
       "5            6         0       3   \n",
       "\n",
       "                                                Name     Sex   Age  SibSp  \\\n",
       "0                            Braund, Mr. Owen Harris    male  22.0      1   \n",
       "1  Cumings, Mrs. John Bradley (Florence Briggs Th...  female  38.0      1   \n",
       "2                             Heikkinen, Miss. Laina  female  26.0      0   \n",
       "3       Futrelle, Mrs. Jacques Heath (Lily May Peel)  female  35.0      1   \n",
       "4                           Allen, Mr. William Henry    male  35.0      0   \n",
       "5                                   Moran, Mr. James    male  28.0      0   \n",
       "\n",
       "   Parch            Ticket     Fare Embarked AgeCategory  Family  \n",
       "0      0         A/5 21171   7.2500        S       Adult       1  \n",
       "1      0          PC 17599  71.2833        C       Adult       1  \n",
       "2      0  STON/O2. 3101282   7.9250        S       Adult       0  \n",
       "3      0            113803  53.1000        S       Adult       1  \n",
       "4      0            373450   8.0500        S       Adult       0  \n",
       "5      0            330877   8.4583        Q       Adult       0  "
      ]
     },
     "execution_count": 15,
     "metadata": {},
     "output_type": "execute_result"
    }
   ],
   "source": [
    "# Cabeçalho do banco de dados\n",
    "titanic_data.head(6)"
   ]
  },
  {
   "cell_type": "markdown",
   "metadata": {},
   "source": [
    "### *1. Passageiros de classe sócio-econômica (*Pclass*) mais elevada apresentaram maior proporção de sobreviventes?*"
   ]
  },
  {
   "cell_type": "markdown",
   "metadata": {},
   "source": [
    "A proporção de sobreviventes por classe sócio-econômica (Pclass) pode ser obtida através do código abaixo:"
   ]
  },
  {
   "cell_type": "code",
   "execution_count": 16,
   "metadata": {
    "collapsed": false
   },
   "outputs": [
    {
     "data": {
      "text/html": [
       "<div>\n",
       "<table border=\"1\" class=\"dataframe\">\n",
       "  <thead>\n",
       "    <tr style=\"text-align: right;\">\n",
       "      <th></th>\n",
       "      <th>Pclass</th>\n",
       "      <th>Survived</th>\n",
       "    </tr>\n",
       "  </thead>\n",
       "  <tbody>\n",
       "    <tr>\n",
       "      <th>0</th>\n",
       "      <td>1</td>\n",
       "      <td>0.629630</td>\n",
       "    </tr>\n",
       "    <tr>\n",
       "      <th>1</th>\n",
       "      <td>2</td>\n",
       "      <td>0.472826</td>\n",
       "    </tr>\n",
       "    <tr>\n",
       "      <th>2</th>\n",
       "      <td>3</td>\n",
       "      <td>0.242363</td>\n",
       "    </tr>\n",
       "  </tbody>\n",
       "</table>\n",
       "</div>"
      ],
      "text/plain": [
       "   Pclass  Survived\n",
       "0       1  0.629630\n",
       "1       2  0.472826\n",
       "2       3  0.242363"
      ]
     },
     "execution_count": 16,
     "metadata": {},
     "output_type": "execute_result"
    }
   ],
   "source": [
    "# Pivotamento das variáveis Pclass e Survived\n",
    "titanic_data[[\"Pclass\", \"Survived\"]].groupby([\"Pclass\"], as_index = False).mean().sort_values(by='Survived', ascending=False)"
   ]
  },
  {
   "cell_type": "markdown",
   "metadata": {},
   "source": [
    "O gráfico de barras empilhadas abaixo ilustra a taxa de sobrevivência de passageiros e tripulantes por classe sócio-econômica (*Pclass*):"
   ]
  },
  {
   "cell_type": "code",
   "execution_count": 17,
   "metadata": {
    "collapsed": false
   },
   "outputs": [
    {
     "data": {
      "text/plain": [
       "<matplotlib.text.Text at 0xb9539e8>"
      ]
     },
     "execution_count": 17,
     "metadata": {},
     "output_type": "execute_result"
    },
    {
     "data": {
      "image/png": "[encoded data removed]",
      "text/plain": [
       "<matplotlib.figure.Figure at 0xbf1cd68>"
      ]
     },
     "metadata": {},
     "output_type": "display_data"
    }
   ],
   "source": [
    "pclass_surv_perc = titanic_data.groupby([\"Pclass\", \"Survived\"]).size()/titanic_data.groupby(\"Pclass\").size()\n",
    "pclass_surv_perc.unstack().plot.bar(stacked=True)\n",
    "plt.legend(bbox_to_anchor=(1.2, 1))\n",
    "plt.title(\"Survivor Percentage by Pclass\")\n",
    "plt.ylabel(\"Survivors percentage\")"
   ]
  },
  {
   "cell_type": "markdown",
   "metadata": {},
   "source": [
    "Nota-se que as classes mais elevadas apresentaram maior taxa de sobrevivência (1 > 2 > 3). Tal observação pode indicar que passageiros de classe mais elevada foram privilegiados durante o naufrágio do Titanic. "
   ]
  },
  {
   "cell_type": "markdown",
   "metadata": {},
   "source": [
    "O gráfico de barras empilhadas abaixo ilustra o número de passageiros e tripulantes sobreviventes e mortos por classe sócio-econômica:"
   ]
  },
  {
   "cell_type": "code",
   "execution_count": 18,
   "metadata": {
    "collapsed": false
   },
   "outputs": [
    {
     "data": {
      "text/plain": [
       "<matplotlib.text.Text at 0xc065860>"
      ]
     },
     "execution_count": 18,
     "metadata": {},
     "output_type": "execute_result"
    },
    {
     "data": {
      "image/png": "[encoded data removed]",
      "text/plain": [
       "<matplotlib.figure.Figure at 0x8bcaa58>"
      ]
     },
     "metadata": {},
     "output_type": "display_data"
    }
   ],
   "source": [
    "titanic_data.groupby(['Pclass', 'Survived']).size().unstack().plot.bar(stacked=True)\n",
    "plt.title(\"Survivors and Dead by Class\")\n",
    "plt.ylabel(\"Number of passengers\")"
   ]
  },
  {
   "cell_type": "markdown",
   "metadata": {},
   "source": [
    "Nota-se que a maioria dos passageiros e tripulantes  a bordo do Titanic faziam parte da classe sócio-econômica 3."
   ]
  },
  {
   "cell_type": "markdown",
   "metadata": {},
   "source": [
    "### 2. *Houve diferença entre as proporções de sobreviventes para homens e mulheres?*"
   ]
  },
  {
   "cell_type": "markdown",
   "metadata": {},
   "source": [
    "A proporção de sobreviventes por gênero (Sex) pode ser obtida através do código abaixo:"
   ]
  },
  {
   "cell_type": "code",
   "execution_count": 19,
   "metadata": {
    "collapsed": false
   },
   "outputs": [
    {
     "data": {
      "text/html": [
       "<div>\n",
       "<table border=\"1\" class=\"dataframe\">\n",
       "  <thead>\n",
       "    <tr style=\"text-align: right;\">\n",
       "      <th></th>\n",
       "      <th>Sex</th>\n",
       "      <th>Survived</th>\n",
       "    </tr>\n",
       "  </thead>\n",
       "  <tbody>\n",
       "    <tr>\n",
       "      <th>0</th>\n",
       "      <td>female</td>\n",
       "      <td>0.742038</td>\n",
       "    </tr>\n",
       "    <tr>\n",
       "      <th>1</th>\n",
       "      <td>male</td>\n",
       "      <td>0.188908</td>\n",
       "    </tr>\n",
       "  </tbody>\n",
       "</table>\n",
       "</div>"
      ],
      "text/plain": [
       "      Sex  Survived\n",
       "0  female  0.742038\n",
       "1    male  0.188908"
      ]
     },
     "execution_count": 19,
     "metadata": {},
     "output_type": "execute_result"
    }
   ],
   "source": [
    "# Pivotamento das variáveis Sex e Survived\n",
    "titanic_data[[\"Sex\", \"Survived\"]].groupby(['Sex'], as_index=False).mean().sort_values(by='Survived', ascending=False)"
   ]
  },
  {
   "cell_type": "markdown",
   "metadata": {},
   "source": [
    "O gráfico de barras empilhadas abaixo ilustra a taxa de sobrevivência de passageiros e tripulantes por gênero (*Sex*):"
   ]
  },
  {
   "cell_type": "code",
   "execution_count": 20,
   "metadata": {
    "collapsed": false
   },
   "outputs": [
    {
     "data": {
      "text/plain": [
       "<matplotlib.text.Text at 0xc288c88>"
      ]
     },
     "execution_count": 20,
     "metadata": {},
     "output_type": "execute_result"
    },
    {
     "data": {
      "image/png": "[encoded data removed]",
      "text/plain": [
       "<matplotlib.figure.Figure at 0xb953710>"
      ]
     },
     "metadata": {},
     "output_type": "display_data"
    }
   ],
   "source": [
    "sex_surv_perc = titanic_data.groupby([\"Sex\", \"Survived\"]).size()/titanic_data.groupby(\"Sex\").size()\n",
    "sex_surv_perc.unstack().plot.bar(stacked=True)\n",
    "plt.legend(bbox_to_anchor=(1.2, 1))\n",
    "plt.title(\"Survivor Percentage by Sex\")\n",
    "plt.ylabel(\"Survivors percentage\")"
   ]
  },
  {
   "cell_type": "markdown",
   "metadata": {},
   "source": [
    "Nota-se que passageiros e tripulantes do sexo femenino apresentaram maior taxa de sobrevivência. Tal observação pode indicar que passageiros e tripulantes do sexo femenino foram privilegiados durante o naufrágio do Titanic. A política de prioridade à \"* **mulheres** e crianças primeiro*\" pode ser responsável por tal comportamento dos dados."
   ]
  },
  {
   "cell_type": "markdown",
   "metadata": {},
   "source": [
    "O gráfico de barras empilhadas abaixo ilustra o número de passageiros e tripulantes sobreviventes e mortos por gênero:"
   ]
  },
  {
   "cell_type": "code",
   "execution_count": 21,
   "metadata": {
    "collapsed": false
   },
   "outputs": [
    {
     "data": {
      "text/plain": [
       "<matplotlib.text.Text at 0xbd86588>"
      ]
     },
     "execution_count": 21,
     "metadata": {},
     "output_type": "execute_result"
    },
    {
     "data": {
      "image/png": "[encoded data removed]",
      "text/plain": [
       "<matplotlib.figure.Figure at 0xbfc3160>"
      ]
     },
     "metadata": {},
     "output_type": "display_data"
    }
   ],
   "source": [
    "titanic_data.groupby(['Sex', 'Survived']).size().unstack().plot.bar(stacked=True)\n",
    "plt.title(\"Survivors and Dead by Gender\")\n",
    "plt.ylabel(\"Number of passengers\")"
   ]
  },
  {
   "cell_type": "markdown",
   "metadata": {},
   "source": [
    "Observando o gráfico acima é nota-se que, apesar da maioria numérica de passageiros e tripulantes do sexo masculino, foram as mulheres que apresentaram a maior taxa de sobrevivência. "
   ]
  },
  {
   "cell_type": "markdown",
   "metadata": {},
   "source": [
    "### 3. *Qual faixa de idade apresentou maior proporção de sobreviventes?*"
   ]
  },
  {
   "cell_type": "markdown",
   "metadata": {},
   "source": [
    "Inicialmente, comparou-se as distribuições da variável *Age* para passageiros sobreviventes e mortos utilizando boxplots e violin plots."
   ]
  },
  {
   "cell_type": "code",
   "execution_count": 22,
   "metadata": {
    "collapsed": false
   },
   "outputs": [
    {
     "data": {
      "text/plain": [
       "<matplotlib.text.Text at 0xd3752e8>"
      ]
     },
     "execution_count": 22,
     "metadata": {},
     "output_type": "execute_result"
    },
    {
     "data": {
      "image/png": "[encoded data removed]",
      "text/plain": [
       "<matplotlib.figure.Figure at 0xc485898>"
      ]
     },
     "metadata": {},
     "output_type": "display_data"
    }
   ],
   "source": [
    "# Boxplot da variável Age em função da sobrevivência\n",
    "bp_Age = sns.boxplot(x=\"Survived\", y=\"Age\", data=titanic_data)\n",
    "plt.title(\"Boxplot: Survival by Age\")"
   ]
  },
  {
   "cell_type": "code",
   "execution_count": 23,
   "metadata": {
    "collapsed": false
   },
   "outputs": [
    {
     "data": {
      "image/png": "[encoded data removed]",
      "text/plain": [
       "<matplotlib.figure.Figure at 0xc485a90>"
      ]
     },
     "metadata": {},
     "output_type": "display_data"
    }
   ],
   "source": [
    "# Violin plot da variável Age em função da sobrevivência\n",
    "vp_age = sns.violinplot(x=\"Survived\", y=\"Age\", data=titanic_data)"
   ]
  },
  {
   "cell_type": "markdown",
   "metadata": {},
   "source": [
    "Observando o boxplot e violin plot não é possóvel perceber grandes diferenças entre as médias das idades dos passageiros sobreviventes e mortos. O violin plot permite identificar uma concentração de dados à esquerda da distribuição dos dados de idades dos passageiros e tripulantes sobreviventes. Isto indica uma concentração de passageiros e tripulantes sobreviventes com idades menores."
   ]
  },
  {
   "cell_type": "markdown",
   "metadata": {},
   "source": [
    "A proporção de sobreviventes por categoria de idade (*AgeCategory*) pode ser obtida através do código abaixo:"
   ]
  },
  {
   "cell_type": "code",
   "execution_count": 24,
   "metadata": {
    "collapsed": false
   },
   "outputs": [
    {
     "data": {
      "text/html": [
       "<div>\n",
       "<table border=\"1\" class=\"dataframe\">\n",
       "  <thead>\n",
       "    <tr style=\"text-align: right;\">\n",
       "      <th></th>\n",
       "      <th>AgeCategory</th>\n",
       "      <th>Survived</th>\n",
       "    </tr>\n",
       "  </thead>\n",
       "  <tbody>\n",
       "    <tr>\n",
       "      <th>1</th>\n",
       "      <td>Child</td>\n",
       "      <td>0.573529</td>\n",
       "    </tr>\n",
       "    <tr>\n",
       "      <th>3</th>\n",
       "      <td>Teenager</td>\n",
       "      <td>0.436620</td>\n",
       "    </tr>\n",
       "    <tr>\n",
       "      <th>0</th>\n",
       "      <td>Adult</td>\n",
       "      <td>0.365014</td>\n",
       "    </tr>\n",
       "    <tr>\n",
       "      <th>2</th>\n",
       "      <td>Elderly</td>\n",
       "      <td>0.269231</td>\n",
       "    </tr>\n",
       "  </tbody>\n",
       "</table>\n",
       "</div>"
      ],
      "text/plain": [
       "  AgeCategory  Survived\n",
       "1       Child  0.573529\n",
       "3    Teenager  0.436620\n",
       "0       Adult  0.365014\n",
       "2     Elderly  0.269231"
      ]
     },
     "execution_count": 24,
     "metadata": {},
     "output_type": "execute_result"
    }
   ],
   "source": [
    "# Pivotamento das variáveis AgeCategory e Survived\n",
    "titanic_data[[\"AgeCategory\", \"Survived\"]].groupby([\"AgeCategory\"], as_index = False).mean().sort_values(by='Survived', ascending=False)"
   ]
  },
  {
   "cell_type": "markdown",
   "metadata": {},
   "source": [
    "Nota-se que passageiros e tripulantes mais novos apresnetaram maior taxa de sobrevivência. A categiria *Child* apresentou maior taxa de sobrevivência, indicando uma provável aplicação da política de *\"mulheres e **crianças** primeiro\"*."
   ]
  },
  {
   "cell_type": "markdown",
   "metadata": {},
   "source": [
    "O violin plot abaixo mostra as distribuições das idades por categoria e realiza comparações entre passageiros e tripulantes sobreviventes e mortos. "
   ]
  },
  {
   "cell_type": "code",
   "execution_count": 25,
   "metadata": {
    "collapsed": false
   },
   "outputs": [
    {
     "data": {
      "image/png": "[encoded data removed]",
      "text/plain": [
       "<matplotlib.figure.Figure at 0xc44a1d0>"
      ]
     },
     "metadata": {},
     "output_type": "display_data"
    }
   ],
   "source": [
    "# Violin plots divididos para comparar as categorias de idade com a variável Survived\n",
    "vp_agecategory = sns.violinplot(x=\"AgeCategory\", y=\"Age\", hue=\"Survived\",data=titanic_data, palette=\"muted\", split=True)"
   ]
  },
  {
   "cell_type": "markdown",
   "metadata": {},
   "source": [
    "### 4. *Passageiros com poucos parentes (irmãos, cônjugues, pais e filhos) apresentaram maior proporção de sobreviventes?*"
   ]
  },
  {
   "cell_type": "markdown",
   "metadata": {
    "collapsed": true
   },
   "source": [
    "Primeiramente, analisaremos a proporção de sobreviventes por número de irmãos e cônjugues (*SibSp*) a bordo do Titanic para cada passageiro."
   ]
  },
  {
   "cell_type": "code",
   "execution_count": 26,
   "metadata": {
    "collapsed": false
   },
   "outputs": [
    {
     "data": {
      "text/html": [
       "<div>\n",
       "<table border=\"1\" class=\"dataframe\">\n",
       "  <thead>\n",
       "    <tr style=\"text-align: right;\">\n",
       "      <th></th>\n",
       "      <th>SibSp</th>\n",
       "      <th>Survived</th>\n",
       "    </tr>\n",
       "  </thead>\n",
       "  <tbody>\n",
       "    <tr>\n",
       "      <th>1</th>\n",
       "      <td>1</td>\n",
       "      <td>0.535885</td>\n",
       "    </tr>\n",
       "    <tr>\n",
       "      <th>2</th>\n",
       "      <td>2</td>\n",
       "      <td>0.464286</td>\n",
       "    </tr>\n",
       "    <tr>\n",
       "      <th>0</th>\n",
       "      <td>0</td>\n",
       "      <td>0.345395</td>\n",
       "    </tr>\n",
       "    <tr>\n",
       "      <th>3</th>\n",
       "      <td>3</td>\n",
       "      <td>0.250000</td>\n",
       "    </tr>\n",
       "    <tr>\n",
       "      <th>4</th>\n",
       "      <td>4</td>\n",
       "      <td>0.166667</td>\n",
       "    </tr>\n",
       "    <tr>\n",
       "      <th>5</th>\n",
       "      <td>5</td>\n",
       "      <td>0.000000</td>\n",
       "    </tr>\n",
       "    <tr>\n",
       "      <th>6</th>\n",
       "      <td>8</td>\n",
       "      <td>0.000000</td>\n",
       "    </tr>\n",
       "  </tbody>\n",
       "</table>\n",
       "</div>"
      ],
      "text/plain": [
       "   SibSp  Survived\n",
       "1      1  0.535885\n",
       "2      2  0.464286\n",
       "0      0  0.345395\n",
       "3      3  0.250000\n",
       "4      4  0.166667\n",
       "5      5  0.000000\n",
       "6      8  0.000000"
      ]
     },
     "execution_count": 26,
     "metadata": {},
     "output_type": "execute_result"
    }
   ],
   "source": [
    "# Pivotamento das variáveis SibSp e Survived\n",
    "titanic_data[[\"SibSp\", \"Survived\"]].groupby([\"SibSp\"], as_index = False).mean().sort_values(by='Survived', ascending=False)"
   ]
  },
  {
   "cell_type": "markdown",
   "metadata": {},
   "source": [
    "Nota-se que passageiros e tripulantes que possuiam um ou dois irmãos ou cônjugues (*SibSp*) a bordo do Titanic apresentaram as maiores taxas de sobrevivência. Passageiros com três ou mais *SibSp* apresentaram as menores taxas de sobreviência. Já passageiros com zero *SibSp* apresentaram um taxa de sobrevivênia intermediária.\n",
    "\n",
    "Pode-se supor que a presença de um *SibSp* seja benéfica para a sobrevivência do passageiro ou tripulante devido a uma possível ajuda mútua para sobreviver. Já o aumento do número de *SibSp* pode ser um fator que dificulte a sobrevivência devido a uma possível necessidade de prestar socorro a um número maior de parentes. O valor intermediário da taxa de sobrevivência para os passageiros e tripulentes com zero *SibSp* pode ser resultado falta de uma possível ajuda recebida pelo passageiro ou tripulante por um ou dois *SibSp*."
   ]
  },
  {
   "cell_type": "markdown",
   "metadata": {
    "collapsed": true
   },
   "source": [
    "Analisando a proporção de sobreviventes por número de Pais ou Filhos a bordo do Titanic (*Parch*) temos:"
   ]
  },
  {
   "cell_type": "code",
   "execution_count": 27,
   "metadata": {
    "collapsed": false
   },
   "outputs": [
    {
     "data": {
      "text/html": [
       "<div>\n",
       "<table border=\"1\" class=\"dataframe\">\n",
       "  <thead>\n",
       "    <tr style=\"text-align: right;\">\n",
       "      <th></th>\n",
       "      <th>Parch</th>\n",
       "      <th>Survived</th>\n",
       "    </tr>\n",
       "  </thead>\n",
       "  <tbody>\n",
       "    <tr>\n",
       "      <th>3</th>\n",
       "      <td>3</td>\n",
       "      <td>0.600000</td>\n",
       "    </tr>\n",
       "    <tr>\n",
       "      <th>1</th>\n",
       "      <td>1</td>\n",
       "      <td>0.550847</td>\n",
       "    </tr>\n",
       "    <tr>\n",
       "      <th>2</th>\n",
       "      <td>2</td>\n",
       "      <td>0.500000</td>\n",
       "    </tr>\n",
       "    <tr>\n",
       "      <th>0</th>\n",
       "      <td>0</td>\n",
       "      <td>0.343658</td>\n",
       "    </tr>\n",
       "    <tr>\n",
       "      <th>5</th>\n",
       "      <td>5</td>\n",
       "      <td>0.200000</td>\n",
       "    </tr>\n",
       "    <tr>\n",
       "      <th>4</th>\n",
       "      <td>4</td>\n",
       "      <td>0.000000</td>\n",
       "    </tr>\n",
       "    <tr>\n",
       "      <th>6</th>\n",
       "      <td>6</td>\n",
       "      <td>0.000000</td>\n",
       "    </tr>\n",
       "  </tbody>\n",
       "</table>\n",
       "</div>"
      ],
      "text/plain": [
       "   Parch  Survived\n",
       "3      3  0.600000\n",
       "1      1  0.550847\n",
       "2      2  0.500000\n",
       "0      0  0.343658\n",
       "5      5  0.200000\n",
       "4      4  0.000000\n",
       "6      6  0.000000"
      ]
     },
     "execution_count": 27,
     "metadata": {},
     "output_type": "execute_result"
    }
   ],
   "source": [
    "# Pivotamento das variáveis Parch e Survived\n",
    "titanic_data[[\"Parch\", \"Survived\"]].groupby([\"Parch\"], as_index = False).mean().sort_values(by='Survived', ascending=False)"
   ]
  },
  {
   "cell_type": "markdown",
   "metadata": {},
   "source": [
    "Nota-se que passageiros e tripulantes que possuiam três, um ou dois pais ou filhos (*Parch*) a bordo do Titanic apresentaram as maiores taxas de sobrevivência. Passageiros com cinco ou mais *Parch* apresentaram as menores taxas de sobreviência. Já passageiros com zero *Parch* apresentaram um taxa de sobrevivênia intermediária.\n",
    "\n",
    "O aumento do número de *Parch* (acima de três) pode ser um fator que dificulte a sobrevivência devido a uma possível necessidade de prestar socorro a um número maior de parentes. O valor intermediário da taxa de sobrevivência para os passageiros e tripulentes com zero *Parch* pode ser resultado falta de uma possível ajuda recebida pelo passageiro ou tripulante por um ou dois *Parch*."
   ]
  },
  {
   "cell_type": "markdown",
   "metadata": {},
   "source": [
    "Finalmente, analisaremos a proporção de sobreviventes por número parentes (*Family*) a bordo do Titanic para cada passageiro."
   ]
  },
  {
   "cell_type": "code",
   "execution_count": 28,
   "metadata": {
    "collapsed": false
   },
   "outputs": [
    {
     "data": {
      "text/html": [
       "<div>\n",
       "<table border=\"1\" class=\"dataframe\">\n",
       "  <thead>\n",
       "    <tr style=\"text-align: right;\">\n",
       "      <th></th>\n",
       "      <th>Family</th>\n",
       "      <th>Survived</th>\n",
       "    </tr>\n",
       "  </thead>\n",
       "  <tbody>\n",
       "    <tr>\n",
       "      <th>3</th>\n",
       "      <td>3</td>\n",
       "      <td>0.724138</td>\n",
       "    </tr>\n",
       "    <tr>\n",
       "      <th>2</th>\n",
       "      <td>2</td>\n",
       "      <td>0.578431</td>\n",
       "    </tr>\n",
       "    <tr>\n",
       "      <th>1</th>\n",
       "      <td>1</td>\n",
       "      <td>0.552795</td>\n",
       "    </tr>\n",
       "    <tr>\n",
       "      <th>6</th>\n",
       "      <td>6</td>\n",
       "      <td>0.333333</td>\n",
       "    </tr>\n",
       "    <tr>\n",
       "      <th>0</th>\n",
       "      <td>0</td>\n",
       "      <td>0.303538</td>\n",
       "    </tr>\n",
       "    <tr>\n",
       "      <th>4</th>\n",
       "      <td>4</td>\n",
       "      <td>0.200000</td>\n",
       "    </tr>\n",
       "    <tr>\n",
       "      <th>5</th>\n",
       "      <td>5</td>\n",
       "      <td>0.136364</td>\n",
       "    </tr>\n",
       "    <tr>\n",
       "      <th>7</th>\n",
       "      <td>7</td>\n",
       "      <td>0.000000</td>\n",
       "    </tr>\n",
       "    <tr>\n",
       "      <th>8</th>\n",
       "      <td>10</td>\n",
       "      <td>0.000000</td>\n",
       "    </tr>\n",
       "  </tbody>\n",
       "</table>\n",
       "</div>"
      ],
      "text/plain": [
       "   Family  Survived\n",
       "3       3  0.724138\n",
       "2       2  0.578431\n",
       "1       1  0.552795\n",
       "6       6  0.333333\n",
       "0       0  0.303538\n",
       "4       4  0.200000\n",
       "5       5  0.136364\n",
       "7       7  0.000000\n",
       "8      10  0.000000"
      ]
     },
     "execution_count": 28,
     "metadata": {},
     "output_type": "execute_result"
    }
   ],
   "source": [
    "# Pivotamento das variáveis Family e Survived\n",
    "titanic_data[[\"Family\", \"Survived\"]].groupby([\"Family\"], as_index = False).mean().sort_values(by='Survived', ascending=False)"
   ]
  },
  {
   "cell_type": "markdown",
   "metadata": {},
   "source": [
    "o gráfico de barras empilhadas abaixo ilustra a taxa de sobrevivência de passageiros e tripulantes por número de parentes a bordo do Titanic (*Family*):"
   ]
  },
  {
   "cell_type": "code",
   "execution_count": 29,
   "metadata": {
    "collapsed": false
   },
   "outputs": [
    {
     "data": {
      "text/plain": [
       "<matplotlib.text.Text at 0xda1ccf8>"
      ]
     },
     "execution_count": 29,
     "metadata": {},
     "output_type": "execute_result"
    },
    {
     "data": {
      "image/png": "[encoded data removed]",
      "text/plain": [
       "<matplotlib.figure.Figure at 0xc485ef0>"
      ]
     },
     "metadata": {},
     "output_type": "display_data"
    }
   ],
   "source": [
    "family_surv_perc = titanic_data.groupby([\"Family\", \"Survived\"]).size()/titanic_data.groupby(\"Family\").size()\n",
    "family_surv_perc.unstack().plot.bar(stacked=True)\n",
    "plt.legend(bbox_to_anchor=(1.2, 1))\n",
    "plt.title(\"Survivor Percentage by Family\")\n",
    "plt.ylabel(\"Survivors percentage\")"
   ]
  },
  {
   "cell_type": "markdown",
   "metadata": {},
   "source": [
    "Mais uma vez é possível notar que passageiros ou tripulantes com zero parentes a bordo do Titanic (*Family*) apresentaram uma taxa de sobrevivência intermediária e que a presença de *Family* é vantajosa até um certo número (neste caso, três)."
   ]
  },
  {
   "cell_type": "markdown",
   "metadata": {},
   "source": [
    "O gráfico de barras empilhadas abaixo ilustra o número de passageiros e tripulantes sobreviventes e mortos por número de parentes a bordo do Titanic (*Family*):"
   ]
  },
  {
   "cell_type": "code",
   "execution_count": 30,
   "metadata": {
    "collapsed": false
   },
   "outputs": [
    {
     "data": {
      "text/plain": [
       "<matplotlib.text.Text at 0xdcb9c18>"
      ]
     },
     "execution_count": 30,
     "metadata": {},
     "output_type": "execute_result"
    },
    {
     "data": {
      "image/png": "[encoded data removed]",
      "text/plain": [
       "<matplotlib.figure.Figure at 0xd6cf470>"
      ]
     },
     "metadata": {},
     "output_type": "display_data"
    }
   ],
   "source": [
    "titanic_data.groupby(['Family', 'Survived']).size().unstack().plot.bar(stacked=True)\n",
    "plt.title(\"Survivors and Dead by Family\")\n",
    "plt.ylabel(\"Number of passengers\")"
   ]
  },
  {
   "cell_type": "markdown",
   "metadata": {},
   "source": [
    "Nota-se que a maioria dos passageiros e tripulantes do Titanic encontravam-se desacompanhados."
   ]
  },
  {
   "cell_type": "markdown",
   "metadata": {},
   "source": [
    "### 5. *Passageiros que embarcaram em diferentes portos apresentaram diferentes proporções de sobreviventes?*"
   ]
  },
  {
   "cell_type": "markdown",
   "metadata": {
    "collapsed": true
   },
   "source": [
    "A proporção de sobreviventes por porto de embarque (*Embarked*) pode ser obtida através do código abaixo:"
   ]
  },
  {
   "cell_type": "code",
   "execution_count": 31,
   "metadata": {
    "collapsed": false
   },
   "outputs": [
    {
     "data": {
      "text/html": [
       "<div>\n",
       "<table border=\"1\" class=\"dataframe\">\n",
       "  <thead>\n",
       "    <tr style=\"text-align: right;\">\n",
       "      <th></th>\n",
       "      <th>Embarked</th>\n",
       "      <th>Survived</th>\n",
       "    </tr>\n",
       "  </thead>\n",
       "  <tbody>\n",
       "    <tr>\n",
       "      <th>0</th>\n",
       "      <td>C</td>\n",
       "      <td>0.553571</td>\n",
       "    </tr>\n",
       "    <tr>\n",
       "      <th>1</th>\n",
       "      <td>Q</td>\n",
       "      <td>0.389610</td>\n",
       "    </tr>\n",
       "    <tr>\n",
       "      <th>2</th>\n",
       "      <td>S</td>\n",
       "      <td>0.339009</td>\n",
       "    </tr>\n",
       "  </tbody>\n",
       "</table>\n",
       "</div>"
      ],
      "text/plain": [
       "  Embarked  Survived\n",
       "0        C  0.553571\n",
       "1        Q  0.389610\n",
       "2        S  0.339009"
      ]
     },
     "execution_count": 31,
     "metadata": {},
     "output_type": "execute_result"
    }
   ],
   "source": [
    "# Pivotamento das variáveis Embarked e Survived\n",
    "titanic_data[[\"Embarked\", \"Survived\"]].groupby([\"Embarked\"], as_index = False).mean().sort_values(by='Survived', ascending=False)"
   ]
  },
  {
   "cell_type": "markdown",
   "metadata": {
    "collapsed": true
   },
   "source": [
    "O gráfico de barras empilhadas abaixo ilustra a taxa de sobrevivência de passageiros e tripulantes por porto de embarque (*Embarked*):"
   ]
  },
  {
   "cell_type": "code",
   "execution_count": 32,
   "metadata": {
    "collapsed": false
   },
   "outputs": [
    {
     "data": {
      "text/plain": [
       "<matplotlib.text.Text at 0xdfe69b0>"
      ]
     },
     "execution_count": 32,
     "metadata": {},
     "output_type": "execute_result"
    },
    {
     "data": {
      "image/png": "[encoded data removed]",
      "text/plain": [
       "<matplotlib.figure.Figure at 0xde0d518>"
      ]
     },
     "metadata": {},
     "output_type": "display_data"
    }
   ],
   "source": [
    "embarked_surv_perc = titanic_data.groupby([\"Embarked\", \"Survived\"]).size()/titanic_data.groupby(\"Embarked\").size()\n",
    "embarked_surv_perc.unstack().plot.bar(stacked=True)\n",
    "plt.legend(bbox_to_anchor=(1.2, 1))\n",
    "plt.title(\"Survivor Percentage by Embarked\")\n",
    "plt.ylabel(\"Survivors percentage\")"
   ]
  },
  {
   "cell_type": "markdown",
   "metadata": {},
   "source": [
    "Nota-se que passageiros e tripulantes que embarcaram no porto de Cherbourg (C) apresentaram  a maior taxa de sobrevivência, enquanto passageiros e tripulantes que embarcaram nos demais portos apresentaram taxas de sobrevivência menores, porém semelhantes."
   ]
  },
  {
   "cell_type": "markdown",
   "metadata": {},
   "source": [
    "O gráfico de barras empilhadas abaixo ilustra o número de passageiros e tripulantes sobreviventes e mortos por porto de embarque (*Embarked*):"
   ]
  },
  {
   "cell_type": "code",
   "execution_count": 33,
   "metadata": {
    "collapsed": false
   },
   "outputs": [
    {
     "data": {
      "text/plain": [
       "<matplotlib.text.Text at 0xe0bf2b0>"
      ]
     },
     "execution_count": 33,
     "metadata": {},
     "output_type": "execute_result"
    },
    {
     "data": {
      "image/png": "[encoded data removed]",
      "text/plain": [
       "<matplotlib.figure.Figure at 0xdb30eb8>"
      ]
     },
     "metadata": {},
     "output_type": "display_data"
    }
   ],
   "source": [
    "titanic_data.groupby(['Embarked', 'Survived']).size().unstack().plot.bar(stacked=True)\n",
    "plt.title(\"Survivors and Dead by Embarked\")\n",
    "plt.ylabel(\"Number of passengers\")"
   ]
  },
  {
   "cell_type": "markdown",
   "metadata": {},
   "source": [
    "Nota-se que a maioria dos passageiros embarcou no porto de Southampton (S)."
   ]
  },
  {
   "cell_type": "markdown",
   "metadata": {},
   "source": [
    "### ANÁLISES ADICIONAIS"
   ]
  },
  {
   "cell_type": "markdown",
   "metadata": {
    "collapsed": true
   },
   "source": [
    "A classe FacetGrid é útil quando você deseja visualizar a distribuição de uma variável ou a relação entre várias variáveis separadamente em subconjuntos de seu conjunto de dados. Os gráficos abaixo correlacionam as variáves categóricas (*Sex*) e discretas (*Pclass* e *Survived*)."
   ]
  },
  {
   "cell_type": "code",
   "execution_count": 34,
   "metadata": {
    "collapsed": false
   },
   "outputs": [
    {
     "data": {
      "text/plain": [
       "<seaborn.axisgrid.FacetGrid at 0xe35f588>"
      ]
     },
     "execution_count": 34,
     "metadata": {},
     "output_type": "execute_result"
    },
    {
     "data": {
      "image/png": "[encoded data removed]",
      "text/plain": [
       "<matplotlib.figure.Figure at 0xe35f278>"
      ]
     },
     "metadata": {},
     "output_type": "display_data"
    }
   ],
   "source": [
    "g = sns.FacetGrid(titanic_data, row='Embarked', size=3, aspect=2)\n",
    "g.map(sns.pointplot, 'Pclass', 'Survived', 'Sex', palette='deep')\n",
    "g.add_legend()"
   ]
  },
  {
   "cell_type": "markdown",
   "metadata": {
    "collapsed": true
   },
   "source": [
    "Observa-se que:\n",
    "* Passageiros e tripulantes do sexo femenino apresentaram maior taxa de sobrevivência (com exceção de passageiros que embarcaram no porto de Cherbourg - C).\n",
    "* Passageiros e tripulantes da classe sócio-econômica 3 do sexo masculino apresentaram a amior taxa de sobrevivência para o porto de embarque de Queenstown (Q), diferentemente do que ocorre para os demais portos."
   ]
  },
  {
   "cell_type": "markdown",
   "metadata": {},
   "source": [
    "### CONCLUSÕES"
   ]
  },
  {
   "cell_type": "markdown",
   "metadata": {},
   "source": [
    "#### 1. Passageiros de classe sócio-econômica (*Pclass*) mais elevada apresentaram maior proporção de sobreviventes?\n",
    "Sim. Passageiros ou tripulantes da primeira classe (Pclass = 1) apresentaram a maior taxa de sobrevivência.\n",
    "\n",
    "#### 2. Houve diferença entre as proporções de sobreviventes para homens e mulheres?\n",
    "Sim. Passageiros e tripulantes do sexo femenino apresentaram maior taxa de sobrevivência.\n",
    "\n",
    "#### 3. Qual faixa de idade apresentou maior proporção de sobreviventes?\n",
    "A categoria *Child* (idade inferior a 12 anos) apresentou a maior taxa de sobrevivência. \n",
    "\n",
    "#### 4. Passageiros com poucos parentes (irmãos, cônjugues, pais e filhos) apresentaram maior proporção de sobreviventes?\n",
    "Não necessariamente. Passageiros ou tripulantes desacompanhados (*Family* = 0) apresentaram taxa de sobrevivência intermediária. Passageiros com 3 parentes a bordo do Titanic apresnetaram a maior taxa de sobrevivência.\n",
    "\n",
    "#### 5. Passageiros que embarcaram em diferentes portos apresentaram diferentes proporções de sobreviventes?\n",
    "Sim. Passageiros e tripulantes que embarcaram no porto de Cherbourg (C) apresentaram a maior taxa de sobrevivência."
   ]
  },
  {
   "cell_type": "markdown",
   "metadata": {},
   "source": [
    "### VARIÁVEIS OCULTAS"
   ]
  },
  {
   "cell_type": "markdown",
   "metadata": {
    "collapsed": true
   },
   "source": [
    "É possível inferir variáveis ocultas a partir das variáveis disponíveis na base de dados fornecida. Variávies como localização (1º andar, 2º andar, 3º andar, etc.) e estado (dormindo ou acordado) podem ter grande influência na sobrevivência dos passageiros e tripulantes, entretanto não constam na base de dados. Salienta-se que qualquer aparente correlação entre as variáveis análisadas não configura casualidade."
   ]
  },
  {
   "cell_type": "markdown",
   "metadata": {},
   "source": [
    "### SUGESTÕES PARA FUTURAS ANÁLISES"
   ]
  },
  {
   "cell_type": "markdown",
   "metadata": {
    "collapsed": true
   },
   "source": [
    "A variável *Cabin* não foi analisada neste trabalho devido ao grande número de dados faltantes. Sugere-se avaliar a possibilidade de preenchimento dos dados faltantes através de uma interpolação entre as variáveis *Ticket *, *Pclass* e *Fare*.\n",
    "\n",
    "Novas variáveis também podem ser criadas a partir das variáves disponibilizadas na base de dados. Sugere-se a criação de uma nova variável baseada nos títulos (Capt, Dr, Miss, Mrs, Mr, etc.) presentes nos nomes dos passageiros e tripulantes. O objetivo seria avaliar a taxa de sobrevivência de passageiros e tripulantes com diferentes títulos."
   ]
  },
  {
   "cell_type": "markdown",
   "metadata": {},
   "source": [
    "Nota-se que os passageiros que embarcaram em Southampton apresentaram a menor taxa de sobrevivência, enquanto os passageiros que embarcaram em Cherbourg apresentaram a maior taxa de sobrevivência."
   ]
  }
 ],
 "metadata": {
  "kernelspec": {
   "display_name": "Python 2",
   "language": "python",
   "name": "python2"
  },
  "language_info": {
   "codemirror_mode": {
    "name": "ipython",
    "version": 2
   },
   "file_extension": ".py",
   "mimetype": "text/x-python",
   "name": "python",
   "nbconvert_exporter": "python",
   "pygments_lexer": "ipython2",
   "version": "2.7.13"
  }
 },
 "nbformat": 4,
 "nbformat_minor": 2
}
